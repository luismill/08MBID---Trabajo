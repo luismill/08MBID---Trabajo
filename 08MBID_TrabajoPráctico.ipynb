{
  "cells": [
    {
      "cell_type": "markdown",
      "metadata": {
        "id": "view-in-github",
        "colab_type": "text"
      },
      "source": [
        "<a href=\"https://colab.research.google.com/github/luismill/08MBID---Trabajo/blob/main/08MBID_TrabajoPr%C3%A1ctico.ipynb\" target=\"_parent\"><img src=\"https://colab.research.google.com/assets/colab-badge.svg\" alt=\"Open In Colab\"/></a>"
      ]
    },
    {
      "cell_type": "markdown",
      "source": [
        "# 08MBID - Trabajo práctico\n",
        "\n"
      ],
      "metadata": {
        "id": "2IhScD0z8VUR"
      }
    },
    {
      "cell_type": "markdown",
      "source": [
        "Este cuaderno se utiliza para la preparación de los datos que se utilizarán para las distintas visualizaciones. Al final se encuentra el gráfico boxplot realizado con Python y seaborn."
      ],
      "metadata": {
        "id": "c93hEj5E8dZR"
      }
    },
    {
      "cell_type": "code",
      "execution_count": 1,
      "metadata": {
        "id": "enNAyooCnBkQ"
      },
      "outputs": [],
      "source": [
        "# carga de datos\n",
        "import pandas as pd\n",
        "from google.colab import files\n",
        "# manipulación y visualización\n",
        "import matplotlib.pyplot as plt\n",
        "import numpy as np\n",
        "import io\n",
        "import seaborn as sns"
      ]
    },
    {
      "cell_type": "code",
      "source": [
        "# Función para cargar archivos al cuaderno\n",
        "def upload_files ():\n",
        "  uploaded = files.upload()\n",
        "  for fn in uploaded.keys():\n",
        "    print('User uploaded file \"{name}\" with length {length} bytes'.format(\n",
        "        name=fn, length=len(uploaded[fn])))\n",
        "    df = pd.read_csv(io.StringIO(uploaded[fn].decode('utf-8')))\n",
        "    return df"
      ],
      "metadata": {
        "id": "ch8UIr94tdeW"
      },
      "execution_count": 2,
      "outputs": []
    },
    {
      "cell_type": "markdown",
      "source": [
        "Cargo el dataset"
      ],
      "metadata": {
        "id": "I-Svq4MNdyX5"
      }
    },
    {
      "cell_type": "code",
      "execution_count": 3,
      "metadata": {
        "colab": {
          "base_uri": "https://localhost:8080/",
          "height": 777
        },
        "id": "xTPG5Ys7nBkU",
        "outputId": "29f99af7-8c85-46d1-f2af-64b93f793dd7"
      },
      "outputs": [
        {
          "output_type": "display_data",
          "data": {
            "text/plain": [
              "<IPython.core.display.HTML object>"
            ],
            "text/html": [
              "\n",
              "     <input type=\"file\" id=\"files-71983277-e5d3-4306-8506-e7cae86a6689\" name=\"files[]\" multiple disabled\n",
              "        style=\"border:none\" />\n",
              "     <output id=\"result-71983277-e5d3-4306-8506-e7cae86a6689\">\n",
              "      Upload widget is only available when the cell has been executed in the\n",
              "      current browser session. Please rerun this cell to enable.\n",
              "      </output>\n",
              "      <script>// Copyright 2017 Google LLC\n",
              "//\n",
              "// Licensed under the Apache License, Version 2.0 (the \"License\");\n",
              "// you may not use this file except in compliance with the License.\n",
              "// You may obtain a copy of the License at\n",
              "//\n",
              "//      http://www.apache.org/licenses/LICENSE-2.0\n",
              "//\n",
              "// Unless required by applicable law or agreed to in writing, software\n",
              "// distributed under the License is distributed on an \"AS IS\" BASIS,\n",
              "// WITHOUT WARRANTIES OR CONDITIONS OF ANY KIND, either express or implied.\n",
              "// See the License for the specific language governing permissions and\n",
              "// limitations under the License.\n",
              "\n",
              "/**\n",
              " * @fileoverview Helpers for google.colab Python module.\n",
              " */\n",
              "(function(scope) {\n",
              "function span(text, styleAttributes = {}) {\n",
              "  const element = document.createElement('span');\n",
              "  element.textContent = text;\n",
              "  for (const key of Object.keys(styleAttributes)) {\n",
              "    element.style[key] = styleAttributes[key];\n",
              "  }\n",
              "  return element;\n",
              "}\n",
              "\n",
              "// Max number of bytes which will be uploaded at a time.\n",
              "const MAX_PAYLOAD_SIZE = 100 * 1024;\n",
              "\n",
              "function _uploadFiles(inputId, outputId) {\n",
              "  const steps = uploadFilesStep(inputId, outputId);\n",
              "  const outputElement = document.getElementById(outputId);\n",
              "  // Cache steps on the outputElement to make it available for the next call\n",
              "  // to uploadFilesContinue from Python.\n",
              "  outputElement.steps = steps;\n",
              "\n",
              "  return _uploadFilesContinue(outputId);\n",
              "}\n",
              "\n",
              "// This is roughly an async generator (not supported in the browser yet),\n",
              "// where there are multiple asynchronous steps and the Python side is going\n",
              "// to poll for completion of each step.\n",
              "// This uses a Promise to block the python side on completion of each step,\n",
              "// then passes the result of the previous step as the input to the next step.\n",
              "function _uploadFilesContinue(outputId) {\n",
              "  const outputElement = document.getElementById(outputId);\n",
              "  const steps = outputElement.steps;\n",
              "\n",
              "  const next = steps.next(outputElement.lastPromiseValue);\n",
              "  return Promise.resolve(next.value.promise).then((value) => {\n",
              "    // Cache the last promise value to make it available to the next\n",
              "    // step of the generator.\n",
              "    outputElement.lastPromiseValue = value;\n",
              "    return next.value.response;\n",
              "  });\n",
              "}\n",
              "\n",
              "/**\n",
              " * Generator function which is called between each async step of the upload\n",
              " * process.\n",
              " * @param {string} inputId Element ID of the input file picker element.\n",
              " * @param {string} outputId Element ID of the output display.\n",
              " * @return {!Iterable<!Object>} Iterable of next steps.\n",
              " */\n",
              "function* uploadFilesStep(inputId, outputId) {\n",
              "  const inputElement = document.getElementById(inputId);\n",
              "  inputElement.disabled = false;\n",
              "\n",
              "  const outputElement = document.getElementById(outputId);\n",
              "  outputElement.innerHTML = '';\n",
              "\n",
              "  const pickedPromise = new Promise((resolve) => {\n",
              "    inputElement.addEventListener('change', (e) => {\n",
              "      resolve(e.target.files);\n",
              "    });\n",
              "  });\n",
              "\n",
              "  const cancel = document.createElement('button');\n",
              "  inputElement.parentElement.appendChild(cancel);\n",
              "  cancel.textContent = 'Cancel upload';\n",
              "  const cancelPromise = new Promise((resolve) => {\n",
              "    cancel.onclick = () => {\n",
              "      resolve(null);\n",
              "    };\n",
              "  });\n",
              "\n",
              "  // Wait for the user to pick the files.\n",
              "  const files = yield {\n",
              "    promise: Promise.race([pickedPromise, cancelPromise]),\n",
              "    response: {\n",
              "      action: 'starting',\n",
              "    }\n",
              "  };\n",
              "\n",
              "  cancel.remove();\n",
              "\n",
              "  // Disable the input element since further picks are not allowed.\n",
              "  inputElement.disabled = true;\n",
              "\n",
              "  if (!files) {\n",
              "    return {\n",
              "      response: {\n",
              "        action: 'complete',\n",
              "      }\n",
              "    };\n",
              "  }\n",
              "\n",
              "  for (const file of files) {\n",
              "    const li = document.createElement('li');\n",
              "    li.append(span(file.name, {fontWeight: 'bold'}));\n",
              "    li.append(span(\n",
              "        `(${file.type || 'n/a'}) - ${file.size} bytes, ` +\n",
              "        `last modified: ${\n",
              "            file.lastModifiedDate ? file.lastModifiedDate.toLocaleDateString() :\n",
              "                                    'n/a'} - `));\n",
              "    const percent = span('0% done');\n",
              "    li.appendChild(percent);\n",
              "\n",
              "    outputElement.appendChild(li);\n",
              "\n",
              "    const fileDataPromise = new Promise((resolve) => {\n",
              "      const reader = new FileReader();\n",
              "      reader.onload = (e) => {\n",
              "        resolve(e.target.result);\n",
              "      };\n",
              "      reader.readAsArrayBuffer(file);\n",
              "    });\n",
              "    // Wait for the data to be ready.\n",
              "    let fileData = yield {\n",
              "      promise: fileDataPromise,\n",
              "      response: {\n",
              "        action: 'continue',\n",
              "      }\n",
              "    };\n",
              "\n",
              "    // Use a chunked sending to avoid message size limits. See b/62115660.\n",
              "    let position = 0;\n",
              "    do {\n",
              "      const length = Math.min(fileData.byteLength - position, MAX_PAYLOAD_SIZE);\n",
              "      const chunk = new Uint8Array(fileData, position, length);\n",
              "      position += length;\n",
              "\n",
              "      const base64 = btoa(String.fromCharCode.apply(null, chunk));\n",
              "      yield {\n",
              "        response: {\n",
              "          action: 'append',\n",
              "          file: file.name,\n",
              "          data: base64,\n",
              "        },\n",
              "      };\n",
              "\n",
              "      let percentDone = fileData.byteLength === 0 ?\n",
              "          100 :\n",
              "          Math.round((position / fileData.byteLength) * 100);\n",
              "      percent.textContent = `${percentDone}% done`;\n",
              "\n",
              "    } while (position < fileData.byteLength);\n",
              "  }\n",
              "\n",
              "  // All done.\n",
              "  yield {\n",
              "    response: {\n",
              "      action: 'complete',\n",
              "    }\n",
              "  };\n",
              "}\n",
              "\n",
              "scope.google = scope.google || {};\n",
              "scope.google.colab = scope.google.colab || {};\n",
              "scope.google.colab._files = {\n",
              "  _uploadFiles,\n",
              "  _uploadFilesContinue,\n",
              "};\n",
              "})(self);\n",
              "</script> "
            ]
          },
          "metadata": {}
        },
        {
          "output_type": "stream",
          "name": "stdout",
          "text": [
            "Saving DatasetPeliculasBeneficio.csv to DatasetPeliculasBeneficio.csv\n",
            "User uploaded file \"DatasetPeliculasBeneficio.csv\" with length 5640368 bytes\n"
          ]
        },
        {
          "output_type": "execute_result",
          "data": {
            "text/plain": [
              "   Unnamed: 0                 genres_x                             id  \\\n",
              "0           0                    Drama  The Shawshank Redemption-1994   \n",
              "1           1       Action,Crime,Drama           The Dark Knight-2008   \n",
              "2           2  Action,Adventure,Sci-Fi                 Inception-2010   \n",
              "3           3                    Drama                Fight Club-1999   \n",
              "4           4            Drama,Romance              Forrest Gump-1994   \n",
              "\n",
              "  original_language  popularity       budget       revenue  vote_average  \\\n",
              "0                en      63.870   25000000.0  2.834147e+07           8.7   \n",
              "1                en      73.078  185000000.0  1.004558e+09           8.5   \n",
              "2                en      97.570  160000000.0  8.255328e+08           8.4   \n",
              "3                en      58.846   63000000.0  1.008538e+08           8.4   \n",
              "4                en      58.279   55000000.0  6.773877e+08           8.5   \n",
              "\n",
              "                                             credits  \\\n",
              "0  Tim Robbins-Morgan Freeman-Bob Gunton-William ...   \n",
              "1  Christian Bale-Heath Ledger-Michael Caine-Gary...   \n",
              "2  Leonardo DiCaprio-Joseph Gordon-Levitt-Ken Wat...   \n",
              "3  Edward Norton-Brad Pitt-Helena Bonham Carter-M...   \n",
              "4  Tom Hanks-Robin Wright-Gary Sinise-Mykelti Wil...   \n",
              "\n",
              "                                            keywords    Year  duration  \\\n",
              "0  prison-corruption-police brutality-prison cell...  1994.0     142.0   \n",
              "1  crime fighter-secret identity-anti hero-scarec...  2008.0     152.0   \n",
              "2  paris france-spy-philosophy-allegory-dream-kid...  2010.0     148.0   \n",
              "3  based on novel or book-support group-dual iden...  1999.0     139.0   \n",
              "4  vietnam veteran-hippie-washington dc usa-menta...  1994.0     142.0   \n",
              "\n",
              "  main_production_company  Director_age      Votes    Rating  month  \\\n",
              "0                   Other          35.0  2617710.0  9.295059      9   \n",
              "1                   Other          38.0  2594861.0  8.994669      7   \n",
              "2                   Other          40.0  2309642.0  8.794521      7   \n",
              "3                   Other          37.0  2068414.0  8.795334     10   \n",
              "4               Paramount          43.0  2027637.0  8.796631      6   \n",
              "\n",
              "   Director_debut  Writer_debut  Profit  \n",
              "0           False          True    True  \n",
              "1           False          True    True  \n",
              "2           False          True    True  \n",
              "3           False          True    True  \n",
              "4           False          True    True  "
            ],
            "text/html": [
              "\n",
              "  <div id=\"df-76f9e05a-0209-4235-92cb-7ba9ef8d7e1c\">\n",
              "    <div class=\"colab-df-container\">\n",
              "      <div>\n",
              "<style scoped>\n",
              "    .dataframe tbody tr th:only-of-type {\n",
              "        vertical-align: middle;\n",
              "    }\n",
              "\n",
              "    .dataframe tbody tr th {\n",
              "        vertical-align: top;\n",
              "    }\n",
              "\n",
              "    .dataframe thead th {\n",
              "        text-align: right;\n",
              "    }\n",
              "</style>\n",
              "<table border=\"1\" class=\"dataframe\">\n",
              "  <thead>\n",
              "    <tr style=\"text-align: right;\">\n",
              "      <th></th>\n",
              "      <th>Unnamed: 0</th>\n",
              "      <th>genres_x</th>\n",
              "      <th>id</th>\n",
              "      <th>original_language</th>\n",
              "      <th>popularity</th>\n",
              "      <th>budget</th>\n",
              "      <th>revenue</th>\n",
              "      <th>vote_average</th>\n",
              "      <th>credits</th>\n",
              "      <th>keywords</th>\n",
              "      <th>Year</th>\n",
              "      <th>duration</th>\n",
              "      <th>main_production_company</th>\n",
              "      <th>Director_age</th>\n",
              "      <th>Votes</th>\n",
              "      <th>Rating</th>\n",
              "      <th>month</th>\n",
              "      <th>Director_debut</th>\n",
              "      <th>Writer_debut</th>\n",
              "      <th>Profit</th>\n",
              "    </tr>\n",
              "  </thead>\n",
              "  <tbody>\n",
              "    <tr>\n",
              "      <th>0</th>\n",
              "      <td>0</td>\n",
              "      <td>Drama</td>\n",
              "      <td>The Shawshank Redemption-1994</td>\n",
              "      <td>en</td>\n",
              "      <td>63.870</td>\n",
              "      <td>25000000.0</td>\n",
              "      <td>2.834147e+07</td>\n",
              "      <td>8.7</td>\n",
              "      <td>Tim Robbins-Morgan Freeman-Bob Gunton-William ...</td>\n",
              "      <td>prison-corruption-police brutality-prison cell...</td>\n",
              "      <td>1994.0</td>\n",
              "      <td>142.0</td>\n",
              "      <td>Other</td>\n",
              "      <td>35.0</td>\n",
              "      <td>2617710.0</td>\n",
              "      <td>9.295059</td>\n",
              "      <td>9</td>\n",
              "      <td>False</td>\n",
              "      <td>True</td>\n",
              "      <td>True</td>\n",
              "    </tr>\n",
              "    <tr>\n",
              "      <th>1</th>\n",
              "      <td>1</td>\n",
              "      <td>Action,Crime,Drama</td>\n",
              "      <td>The Dark Knight-2008</td>\n",
              "      <td>en</td>\n",
              "      <td>73.078</td>\n",
              "      <td>185000000.0</td>\n",
              "      <td>1.004558e+09</td>\n",
              "      <td>8.5</td>\n",
              "      <td>Christian Bale-Heath Ledger-Michael Caine-Gary...</td>\n",
              "      <td>crime fighter-secret identity-anti hero-scarec...</td>\n",
              "      <td>2008.0</td>\n",
              "      <td>152.0</td>\n",
              "      <td>Other</td>\n",
              "      <td>38.0</td>\n",
              "      <td>2594861.0</td>\n",
              "      <td>8.994669</td>\n",
              "      <td>7</td>\n",
              "      <td>False</td>\n",
              "      <td>True</td>\n",
              "      <td>True</td>\n",
              "    </tr>\n",
              "    <tr>\n",
              "      <th>2</th>\n",
              "      <td>2</td>\n",
              "      <td>Action,Adventure,Sci-Fi</td>\n",
              "      <td>Inception-2010</td>\n",
              "      <td>en</td>\n",
              "      <td>97.570</td>\n",
              "      <td>160000000.0</td>\n",
              "      <td>8.255328e+08</td>\n",
              "      <td>8.4</td>\n",
              "      <td>Leonardo DiCaprio-Joseph Gordon-Levitt-Ken Wat...</td>\n",
              "      <td>paris france-spy-philosophy-allegory-dream-kid...</td>\n",
              "      <td>2010.0</td>\n",
              "      <td>148.0</td>\n",
              "      <td>Other</td>\n",
              "      <td>40.0</td>\n",
              "      <td>2309642.0</td>\n",
              "      <td>8.794521</td>\n",
              "      <td>7</td>\n",
              "      <td>False</td>\n",
              "      <td>True</td>\n",
              "      <td>True</td>\n",
              "    </tr>\n",
              "    <tr>\n",
              "      <th>3</th>\n",
              "      <td>3</td>\n",
              "      <td>Drama</td>\n",
              "      <td>Fight Club-1999</td>\n",
              "      <td>en</td>\n",
              "      <td>58.846</td>\n",
              "      <td>63000000.0</td>\n",
              "      <td>1.008538e+08</td>\n",
              "      <td>8.4</td>\n",
              "      <td>Edward Norton-Brad Pitt-Helena Bonham Carter-M...</td>\n",
              "      <td>based on novel or book-support group-dual iden...</td>\n",
              "      <td>1999.0</td>\n",
              "      <td>139.0</td>\n",
              "      <td>Other</td>\n",
              "      <td>37.0</td>\n",
              "      <td>2068414.0</td>\n",
              "      <td>8.795334</td>\n",
              "      <td>10</td>\n",
              "      <td>False</td>\n",
              "      <td>True</td>\n",
              "      <td>True</td>\n",
              "    </tr>\n",
              "    <tr>\n",
              "      <th>4</th>\n",
              "      <td>4</td>\n",
              "      <td>Drama,Romance</td>\n",
              "      <td>Forrest Gump-1994</td>\n",
              "      <td>en</td>\n",
              "      <td>58.279</td>\n",
              "      <td>55000000.0</td>\n",
              "      <td>6.773877e+08</td>\n",
              "      <td>8.5</td>\n",
              "      <td>Tom Hanks-Robin Wright-Gary Sinise-Mykelti Wil...</td>\n",
              "      <td>vietnam veteran-hippie-washington dc usa-menta...</td>\n",
              "      <td>1994.0</td>\n",
              "      <td>142.0</td>\n",
              "      <td>Paramount</td>\n",
              "      <td>43.0</td>\n",
              "      <td>2027637.0</td>\n",
              "      <td>8.796631</td>\n",
              "      <td>6</td>\n",
              "      <td>False</td>\n",
              "      <td>True</td>\n",
              "      <td>True</td>\n",
              "    </tr>\n",
              "  </tbody>\n",
              "</table>\n",
              "</div>\n",
              "      <button class=\"colab-df-convert\" onclick=\"convertToInteractive('df-76f9e05a-0209-4235-92cb-7ba9ef8d7e1c')\"\n",
              "              title=\"Convert this dataframe to an interactive table.\"\n",
              "              style=\"display:none;\">\n",
              "        \n",
              "  <svg xmlns=\"http://www.w3.org/2000/svg\" height=\"24px\"viewBox=\"0 0 24 24\"\n",
              "       width=\"24px\">\n",
              "    <path d=\"M0 0h24v24H0V0z\" fill=\"none\"/>\n",
              "    <path d=\"M18.56 5.44l.94 2.06.94-2.06 2.06-.94-2.06-.94-.94-2.06-.94 2.06-2.06.94zm-11 1L8.5 8.5l.94-2.06 2.06-.94-2.06-.94L8.5 2.5l-.94 2.06-2.06.94zm10 10l.94 2.06.94-2.06 2.06-.94-2.06-.94-.94-2.06-.94 2.06-2.06.94z\"/><path d=\"M17.41 7.96l-1.37-1.37c-.4-.4-.92-.59-1.43-.59-.52 0-1.04.2-1.43.59L10.3 9.45l-7.72 7.72c-.78.78-.78 2.05 0 2.83L4 21.41c.39.39.9.59 1.41.59.51 0 1.02-.2 1.41-.59l7.78-7.78 2.81-2.81c.8-.78.8-2.07 0-2.86zM5.41 20L4 18.59l7.72-7.72 1.47 1.35L5.41 20z\"/>\n",
              "  </svg>\n",
              "      </button>\n",
              "      \n",
              "  <style>\n",
              "    .colab-df-container {\n",
              "      display:flex;\n",
              "      flex-wrap:wrap;\n",
              "      gap: 12px;\n",
              "    }\n",
              "\n",
              "    .colab-df-convert {\n",
              "      background-color: #E8F0FE;\n",
              "      border: none;\n",
              "      border-radius: 50%;\n",
              "      cursor: pointer;\n",
              "      display: none;\n",
              "      fill: #1967D2;\n",
              "      height: 32px;\n",
              "      padding: 0 0 0 0;\n",
              "      width: 32px;\n",
              "    }\n",
              "\n",
              "    .colab-df-convert:hover {\n",
              "      background-color: #E2EBFA;\n",
              "      box-shadow: 0px 1px 2px rgba(60, 64, 67, 0.3), 0px 1px 3px 1px rgba(60, 64, 67, 0.15);\n",
              "      fill: #174EA6;\n",
              "    }\n",
              "\n",
              "    [theme=dark] .colab-df-convert {\n",
              "      background-color: #3B4455;\n",
              "      fill: #D2E3FC;\n",
              "    }\n",
              "\n",
              "    [theme=dark] .colab-df-convert:hover {\n",
              "      background-color: #434B5C;\n",
              "      box-shadow: 0px 1px 3px 1px rgba(0, 0, 0, 0.15);\n",
              "      filter: drop-shadow(0px 1px 2px rgba(0, 0, 0, 0.3));\n",
              "      fill: #FFFFFF;\n",
              "    }\n",
              "  </style>\n",
              "\n",
              "      <script>\n",
              "        const buttonEl =\n",
              "          document.querySelector('#df-76f9e05a-0209-4235-92cb-7ba9ef8d7e1c button.colab-df-convert');\n",
              "        buttonEl.style.display =\n",
              "          google.colab.kernel.accessAllowed ? 'block' : 'none';\n",
              "\n",
              "        async function convertToInteractive(key) {\n",
              "          const element = document.querySelector('#df-76f9e05a-0209-4235-92cb-7ba9ef8d7e1c');\n",
              "          const dataTable =\n",
              "            await google.colab.kernel.invokeFunction('convertToInteractive',\n",
              "                                                     [key], {});\n",
              "          if (!dataTable) return;\n",
              "\n",
              "          const docLinkHtml = 'Like what you see? Visit the ' +\n",
              "            '<a target=\"_blank\" href=https://colab.research.google.com/notebooks/data_table.ipynb>data table notebook</a>'\n",
              "            + ' to learn more about interactive tables.';\n",
              "          element.innerHTML = '';\n",
              "          dataTable['output_type'] = 'display_data';\n",
              "          await google.colab.output.renderOutput(dataTable, element);\n",
              "          const docLink = document.createElement('div');\n",
              "          docLink.innerHTML = docLinkHtml;\n",
              "          element.appendChild(docLink);\n",
              "        }\n",
              "      </script>\n",
              "    </div>\n",
              "  </div>\n",
              "  "
            ]
          },
          "metadata": {},
          "execution_count": 3
        }
      ],
      "source": [
        "df = upload_files()\n",
        "df.head()"
      ]
    },
    {
      "cell_type": "code",
      "execution_count": 4,
      "metadata": {
        "colab": {
          "base_uri": "https://localhost:8080/"
        },
        "id": "KbuCMYxEnBkW",
        "outputId": "2ceba8a2-cf32-439c-8bae-5aed7c5d187f"
      },
      "outputs": [
        {
          "output_type": "execute_result",
          "data": {
            "text/plain": [
              "(8031, 20)"
            ]
          },
          "metadata": {},
          "execution_count": 4
        }
      ],
      "source": [
        "df.shape"
      ]
    },
    {
      "cell_type": "code",
      "execution_count": 5,
      "metadata": {
        "colab": {
          "base_uri": "https://localhost:8080/",
          "height": 300
        },
        "id": "oPzLFeFQnBkY",
        "outputId": "5fade716-8b09-493b-c1ec-b90c3ccb4321"
      },
      "outputs": [
        {
          "output_type": "execute_result",
          "data": {
            "text/plain": [
              "          Unnamed: 0   popularity        budget       revenue  vote_average  \\\n",
              "count    8031.000000  8031.000000  8.031000e+03  8.031000e+03   8031.000000   \n",
              "mean    15994.033993    26.319166  2.638371e+07  7.569503e+07      6.306550   \n",
              "std     34129.087810   120.859229  3.896034e+07  1.631839e+08      1.326944   \n",
              "min         0.000000     0.600000  1.000000e+00  1.000000e+00      0.000000   \n",
              "25%      2108.500000     7.190000  3.000000e+06  3.000000e+06      5.900000   \n",
              "50%      5033.000000    11.425000  1.200000e+07  1.812324e+07      6.400000   \n",
              "75%     12249.000000    20.890000  3.100000e+07  7.339746e+07      7.000000   \n",
              "max    233675.000000  5038.876000  3.800000e+08  2.847246e+09     10.000000   \n",
              "\n",
              "              Year     duration  Director_age         Votes       Rating  \\\n",
              "count  8031.000000  8031.000000   8031.000000  8.031000e+03  8031.000000   \n",
              "mean   2000.230855   107.797348     45.463579  9.172825e+04     6.417392   \n",
              "std      18.597440    24.016658      9.283974  1.747365e+05     1.088274   \n",
              "min    1914.000000     0.000000     16.000000  5.000000e+00     1.005100   \n",
              "25%    1994.000000    94.000000     41.000000  6.846000e+03     5.800000   \n",
              "50%    2006.000000   105.000000     43.000000  3.059000e+04     6.498614   \n",
              "75%    2013.000000   120.000000     50.000000  1.000640e+05     7.196865   \n",
              "max    2022.000000   199.500000     89.000000  2.617710e+06    10.000000   \n",
              "\n",
              "            month  \n",
              "count  8031.00000  \n",
              "mean      6.95866  \n",
              "std       3.40043  \n",
              "min       1.00000  \n",
              "25%       4.00000  \n",
              "50%       7.00000  \n",
              "75%      10.00000  \n",
              "max      12.00000  "
            ],
            "text/html": [
              "\n",
              "  <div id=\"df-6f9f63ae-7eed-4b8c-ba5e-401ea0ff8339\">\n",
              "    <div class=\"colab-df-container\">\n",
              "      <div>\n",
              "<style scoped>\n",
              "    .dataframe tbody tr th:only-of-type {\n",
              "        vertical-align: middle;\n",
              "    }\n",
              "\n",
              "    .dataframe tbody tr th {\n",
              "        vertical-align: top;\n",
              "    }\n",
              "\n",
              "    .dataframe thead th {\n",
              "        text-align: right;\n",
              "    }\n",
              "</style>\n",
              "<table border=\"1\" class=\"dataframe\">\n",
              "  <thead>\n",
              "    <tr style=\"text-align: right;\">\n",
              "      <th></th>\n",
              "      <th>Unnamed: 0</th>\n",
              "      <th>popularity</th>\n",
              "      <th>budget</th>\n",
              "      <th>revenue</th>\n",
              "      <th>vote_average</th>\n",
              "      <th>Year</th>\n",
              "      <th>duration</th>\n",
              "      <th>Director_age</th>\n",
              "      <th>Votes</th>\n",
              "      <th>Rating</th>\n",
              "      <th>month</th>\n",
              "    </tr>\n",
              "  </thead>\n",
              "  <tbody>\n",
              "    <tr>\n",
              "      <th>count</th>\n",
              "      <td>8031.000000</td>\n",
              "      <td>8031.000000</td>\n",
              "      <td>8.031000e+03</td>\n",
              "      <td>8.031000e+03</td>\n",
              "      <td>8031.000000</td>\n",
              "      <td>8031.000000</td>\n",
              "      <td>8031.000000</td>\n",
              "      <td>8031.000000</td>\n",
              "      <td>8.031000e+03</td>\n",
              "      <td>8031.000000</td>\n",
              "      <td>8031.00000</td>\n",
              "    </tr>\n",
              "    <tr>\n",
              "      <th>mean</th>\n",
              "      <td>15994.033993</td>\n",
              "      <td>26.319166</td>\n",
              "      <td>2.638371e+07</td>\n",
              "      <td>7.569503e+07</td>\n",
              "      <td>6.306550</td>\n",
              "      <td>2000.230855</td>\n",
              "      <td>107.797348</td>\n",
              "      <td>45.463579</td>\n",
              "      <td>9.172825e+04</td>\n",
              "      <td>6.417392</td>\n",
              "      <td>6.95866</td>\n",
              "    </tr>\n",
              "    <tr>\n",
              "      <th>std</th>\n",
              "      <td>34129.087810</td>\n",
              "      <td>120.859229</td>\n",
              "      <td>3.896034e+07</td>\n",
              "      <td>1.631839e+08</td>\n",
              "      <td>1.326944</td>\n",
              "      <td>18.597440</td>\n",
              "      <td>24.016658</td>\n",
              "      <td>9.283974</td>\n",
              "      <td>1.747365e+05</td>\n",
              "      <td>1.088274</td>\n",
              "      <td>3.40043</td>\n",
              "    </tr>\n",
              "    <tr>\n",
              "      <th>min</th>\n",
              "      <td>0.000000</td>\n",
              "      <td>0.600000</td>\n",
              "      <td>1.000000e+00</td>\n",
              "      <td>1.000000e+00</td>\n",
              "      <td>0.000000</td>\n",
              "      <td>1914.000000</td>\n",
              "      <td>0.000000</td>\n",
              "      <td>16.000000</td>\n",
              "      <td>5.000000e+00</td>\n",
              "      <td>1.005100</td>\n",
              "      <td>1.00000</td>\n",
              "    </tr>\n",
              "    <tr>\n",
              "      <th>25%</th>\n",
              "      <td>2108.500000</td>\n",
              "      <td>7.190000</td>\n",
              "      <td>3.000000e+06</td>\n",
              "      <td>3.000000e+06</td>\n",
              "      <td>5.900000</td>\n",
              "      <td>1994.000000</td>\n",
              "      <td>94.000000</td>\n",
              "      <td>41.000000</td>\n",
              "      <td>6.846000e+03</td>\n",
              "      <td>5.800000</td>\n",
              "      <td>4.00000</td>\n",
              "    </tr>\n",
              "    <tr>\n",
              "      <th>50%</th>\n",
              "      <td>5033.000000</td>\n",
              "      <td>11.425000</td>\n",
              "      <td>1.200000e+07</td>\n",
              "      <td>1.812324e+07</td>\n",
              "      <td>6.400000</td>\n",
              "      <td>2006.000000</td>\n",
              "      <td>105.000000</td>\n",
              "      <td>43.000000</td>\n",
              "      <td>3.059000e+04</td>\n",
              "      <td>6.498614</td>\n",
              "      <td>7.00000</td>\n",
              "    </tr>\n",
              "    <tr>\n",
              "      <th>75%</th>\n",
              "      <td>12249.000000</td>\n",
              "      <td>20.890000</td>\n",
              "      <td>3.100000e+07</td>\n",
              "      <td>7.339746e+07</td>\n",
              "      <td>7.000000</td>\n",
              "      <td>2013.000000</td>\n",
              "      <td>120.000000</td>\n",
              "      <td>50.000000</td>\n",
              "      <td>1.000640e+05</td>\n",
              "      <td>7.196865</td>\n",
              "      <td>10.00000</td>\n",
              "    </tr>\n",
              "    <tr>\n",
              "      <th>max</th>\n",
              "      <td>233675.000000</td>\n",
              "      <td>5038.876000</td>\n",
              "      <td>3.800000e+08</td>\n",
              "      <td>2.847246e+09</td>\n",
              "      <td>10.000000</td>\n",
              "      <td>2022.000000</td>\n",
              "      <td>199.500000</td>\n",
              "      <td>89.000000</td>\n",
              "      <td>2.617710e+06</td>\n",
              "      <td>10.000000</td>\n",
              "      <td>12.00000</td>\n",
              "    </tr>\n",
              "  </tbody>\n",
              "</table>\n",
              "</div>\n",
              "      <button class=\"colab-df-convert\" onclick=\"convertToInteractive('df-6f9f63ae-7eed-4b8c-ba5e-401ea0ff8339')\"\n",
              "              title=\"Convert this dataframe to an interactive table.\"\n",
              "              style=\"display:none;\">\n",
              "        \n",
              "  <svg xmlns=\"http://www.w3.org/2000/svg\" height=\"24px\"viewBox=\"0 0 24 24\"\n",
              "       width=\"24px\">\n",
              "    <path d=\"M0 0h24v24H0V0z\" fill=\"none\"/>\n",
              "    <path d=\"M18.56 5.44l.94 2.06.94-2.06 2.06-.94-2.06-.94-.94-2.06-.94 2.06-2.06.94zm-11 1L8.5 8.5l.94-2.06 2.06-.94-2.06-.94L8.5 2.5l-.94 2.06-2.06.94zm10 10l.94 2.06.94-2.06 2.06-.94-2.06-.94-.94-2.06-.94 2.06-2.06.94z\"/><path d=\"M17.41 7.96l-1.37-1.37c-.4-.4-.92-.59-1.43-.59-.52 0-1.04.2-1.43.59L10.3 9.45l-7.72 7.72c-.78.78-.78 2.05 0 2.83L4 21.41c.39.39.9.59 1.41.59.51 0 1.02-.2 1.41-.59l7.78-7.78 2.81-2.81c.8-.78.8-2.07 0-2.86zM5.41 20L4 18.59l7.72-7.72 1.47 1.35L5.41 20z\"/>\n",
              "  </svg>\n",
              "      </button>\n",
              "      \n",
              "  <style>\n",
              "    .colab-df-container {\n",
              "      display:flex;\n",
              "      flex-wrap:wrap;\n",
              "      gap: 12px;\n",
              "    }\n",
              "\n",
              "    .colab-df-convert {\n",
              "      background-color: #E8F0FE;\n",
              "      border: none;\n",
              "      border-radius: 50%;\n",
              "      cursor: pointer;\n",
              "      display: none;\n",
              "      fill: #1967D2;\n",
              "      height: 32px;\n",
              "      padding: 0 0 0 0;\n",
              "      width: 32px;\n",
              "    }\n",
              "\n",
              "    .colab-df-convert:hover {\n",
              "      background-color: #E2EBFA;\n",
              "      box-shadow: 0px 1px 2px rgba(60, 64, 67, 0.3), 0px 1px 3px 1px rgba(60, 64, 67, 0.15);\n",
              "      fill: #174EA6;\n",
              "    }\n",
              "\n",
              "    [theme=dark] .colab-df-convert {\n",
              "      background-color: #3B4455;\n",
              "      fill: #D2E3FC;\n",
              "    }\n",
              "\n",
              "    [theme=dark] .colab-df-convert:hover {\n",
              "      background-color: #434B5C;\n",
              "      box-shadow: 0px 1px 3px 1px rgba(0, 0, 0, 0.15);\n",
              "      filter: drop-shadow(0px 1px 2px rgba(0, 0, 0, 0.3));\n",
              "      fill: #FFFFFF;\n",
              "    }\n",
              "  </style>\n",
              "\n",
              "      <script>\n",
              "        const buttonEl =\n",
              "          document.querySelector('#df-6f9f63ae-7eed-4b8c-ba5e-401ea0ff8339 button.colab-df-convert');\n",
              "        buttonEl.style.display =\n",
              "          google.colab.kernel.accessAllowed ? 'block' : 'none';\n",
              "\n",
              "        async function convertToInteractive(key) {\n",
              "          const element = document.querySelector('#df-6f9f63ae-7eed-4b8c-ba5e-401ea0ff8339');\n",
              "          const dataTable =\n",
              "            await google.colab.kernel.invokeFunction('convertToInteractive',\n",
              "                                                     [key], {});\n",
              "          if (!dataTable) return;\n",
              "\n",
              "          const docLinkHtml = 'Like what you see? Visit the ' +\n",
              "            '<a target=\"_blank\" href=https://colab.research.google.com/notebooks/data_table.ipynb>data table notebook</a>'\n",
              "            + ' to learn more about interactive tables.';\n",
              "          element.innerHTML = '';\n",
              "          dataTable['output_type'] = 'display_data';\n",
              "          await google.colab.output.renderOutput(dataTable, element);\n",
              "          const docLink = document.createElement('div');\n",
              "          docLink.innerHTML = docLinkHtml;\n",
              "          element.appendChild(docLink);\n",
              "        }\n",
              "      </script>\n",
              "    </div>\n",
              "  </div>\n",
              "  "
            ]
          },
          "metadata": {},
          "execution_count": 5
        }
      ],
      "source": [
        "df.describe()"
      ]
    },
    {
      "cell_type": "markdown",
      "source": [
        "Quito una columna que sobra y reseteo el índice"
      ],
      "metadata": {
        "id": "3Z8M6c2gd5qb"
      }
    },
    {
      "cell_type": "code",
      "execution_count": 6,
      "metadata": {
        "id": "kuhpENHEnBkZ"
      },
      "outputs": [],
      "source": [
        "df.drop('Unnamed: 0', axis=1, inplace=True)\n",
        "df.reset_index(inplace=True, drop=True)"
      ]
    },
    {
      "cell_type": "markdown",
      "source": [
        "Me quedo solo con las películas con duración de más de una hora, para borrar los cortos"
      ],
      "metadata": {
        "id": "kjIZ2J0jeDeE"
      }
    },
    {
      "cell_type": "code",
      "execution_count": 7,
      "metadata": {
        "id": "oEkuIrnjnBka"
      },
      "outputs": [],
      "source": [
        "pelis = df.drop(df[df.duration < 60].index)"
      ]
    },
    {
      "cell_type": "markdown",
      "source": [
        "## Datos para gráfica de Valoración media de las películas por genero"
      ],
      "metadata": {
        "id": "aHDpnwoB84Nh"
      }
    },
    {
      "cell_type": "markdown",
      "source": [
        "Obtengo el género principal"
      ],
      "metadata": {
        "id": "uWoidKAjeJgR"
      }
    },
    {
      "cell_type": "code",
      "execution_count": 8,
      "metadata": {
        "id": "XhzOn7_LnBkf"
      },
      "outputs": [],
      "source": [
        "pelis['genero_princ'] = pelis.genres_x.str.split(',').str[0]\n",
        "pelis.drop('genres_x', axis=1, inplace=True)"
      ]
    },
    {
      "cell_type": "code",
      "execution_count": 9,
      "metadata": {
        "colab": {
          "base_uri": "https://localhost:8080/"
        },
        "id": "wNlqKTfinBkg",
        "outputId": "fb8fdada-70c0-4bac-9d53-ff6ba94cb811"
      },
      "outputs": [
        {
          "output_type": "execute_result",
          "data": {
            "text/plain": [
              "genero_princ\n",
              "Short             1\n",
              "War               1\n",
              "Game-Show         1\n",
              "Reality-TV        2\n",
              "History           3\n",
              "Sport             3\n",
              "Talk-Show         4\n",
              "Music             4\n",
              "Film-Noir         5\n",
              "Musical           6\n",
              "Family            7\n",
              "Sci-Fi           11\n",
              "Western          12\n",
              "Romance          14\n",
              "Thriller         25\n",
              "Mystery          29\n",
              "Fantasy          39\n",
              "Animation        55\n",
              "Documentary      70\n",
              "Horror          359\n",
              "Biography       415\n",
              "Crime           527\n",
              "Adventure       752\n",
              "Drama          1418\n",
              "Comedy         1991\n",
              "Action         2111\n",
              "Name: id, dtype: int64"
            ]
          },
          "metadata": {},
          "execution_count": 9
        }
      ],
      "source": [
        "pelis.groupby(['genero_princ']).count().id.sort_values()"
      ]
    },
    {
      "cell_type": "markdown",
      "source": [
        "Borro las películas de géneros con menos de 10 películas"
      ],
      "metadata": {
        "id": "O-X62s-6eNnJ"
      }
    },
    {
      "cell_type": "code",
      "execution_count": 10,
      "metadata": {
        "id": "953mZosInBkg"
      },
      "outputs": [],
      "source": [
        "df_genero = pelis.groupby('genero_princ').filter(lambda x : len(x)>10)"
      ]
    },
    {
      "cell_type": "markdown",
      "source": [
        "Obtengo la nota media por género"
      ],
      "metadata": {
        "id": "vV-aedHieTvy"
      }
    },
    {
      "cell_type": "code",
      "source": [
        "Rating_genero = df_genero.groupby('genero_princ').mean()['Rating']\n",
        "Rating_genero.head()"
      ],
      "metadata": {
        "colab": {
          "base_uri": "https://localhost:8080/"
        },
        "id": "bAEWEEWCwRE-",
        "outputId": "64162e21-2395-4a40-da54-b1de1af41042"
      },
      "execution_count": 11,
      "outputs": [
        {
          "output_type": "execute_result",
          "data": {
            "text/plain": [
              "genero_princ\n",
              "Action       6.242978\n",
              "Adventure    6.449812\n",
              "Animation    6.696189\n",
              "Biography    7.040415\n",
              "Comedy       6.203532\n",
              "Name: Rating, dtype: float64"
            ]
          },
          "metadata": {},
          "execution_count": 11
        }
      ]
    },
    {
      "cell_type": "code",
      "source": [
        "#Rating_genero.to_excel('Pelis_por_genero.xlsx')\n",
        "#files.download('Pelis_por_genero.xlsx')"
      ],
      "metadata": {
        "id": "l0219YSNwMNm"
      },
      "execution_count": 12,
      "outputs": []
    },
    {
      "cell_type": "markdown",
      "source": [
        "## Datos para gráfica de Valoración media de las películas por año"
      ],
      "metadata": {
        "id": "kZX_bhP87qv0"
      }
    },
    {
      "cell_type": "markdown",
      "source": [
        "Obtengo la nota media de cada año"
      ],
      "metadata": {
        "id": "mpYsBp_pe50R"
      }
    },
    {
      "cell_type": "code",
      "source": [],
      "metadata": {
        "id": "FYv-ZeAr7ygr"
      },
      "execution_count": 12,
      "outputs": []
    },
    {
      "cell_type": "code",
      "source": [
        "Rating_año = pelis.groupby('Year').mean()['Rating']\n",
        "Rating_año.head()\n"
      ],
      "metadata": {
        "colab": {
          "base_uri": "https://localhost:8080/"
        },
        "id": "FHv3xizJLKtw",
        "outputId": "b249ebb5-d2d5-4978-8ceb-bd49a8e522b4"
      },
      "execution_count": 13,
      "outputs": [
        {
          "output_type": "execute_result",
          "data": {
            "text/plain": [
              "Year\n",
              "1914.0    6.400000\n",
              "1915.0    6.349204\n",
              "1916.0    6.642716\n",
              "1918.0    6.106854\n",
              "1919.0    6.784615\n",
              "Name: Rating, dtype: float64"
            ]
          },
          "metadata": {},
          "execution_count": 13
        }
      ]
    },
    {
      "cell_type": "markdown",
      "source": [
        "Obtengo el número de películas por año y miro los años con menos de 10 películas"
      ],
      "metadata": {
        "id": "fxs9Ljyne-RJ"
      }
    },
    {
      "cell_type": "code",
      "source": [
        "Peliculas_por_año = pelis.groupby('Year').count()['id'].sort_values()\n",
        "Años_filtrados = Peliculas_por_año[Peliculas_por_año < 10]\n",
        "Años_filtrados"
      ],
      "metadata": {
        "colab": {
          "base_uri": "https://localhost:8080/"
        },
        "id": "fO8SNV4fL51x",
        "outputId": "42cbc2ac-73e4-465d-90b8-1a11b7b6fb5f"
      },
      "execution_count": 14,
      "outputs": [
        {
          "output_type": "execute_result",
          "data": {
            "text/plain": [
              "Year\n",
              "1914.0    1\n",
              "1918.0    1\n",
              "1919.0    1\n",
              "1923.0    1\n",
              "1915.0    2\n",
              "1916.0    2\n",
              "1920.0    2\n",
              "1921.0    2\n",
              "1922.0    2\n",
              "1924.0    4\n",
              "1930.0    4\n",
              "1925.0    5\n",
              "1929.0    6\n",
              "1932.0    6\n",
              "1927.0    7\n",
              "1926.0    7\n",
              "1938.0    8\n",
              "1931.0    9\n",
              "1950.0    9\n",
              "1937.0    9\n",
              "Name: id, dtype: int64"
            ]
          },
          "metadata": {},
          "execution_count": 14
        }
      ]
    },
    {
      "cell_type": "markdown",
      "source": [
        "Elimino los años con menos de 10 películas"
      ],
      "metadata": {
        "id": "HTJ5lpZkfOcB"
      }
    },
    {
      "cell_type": "code",
      "source": [
        "Rating_año_filtrado = Rating_año.drop(Años_filtrados.index)"
      ],
      "metadata": {
        "id": "8lqxYtUxNh3J"
      },
      "execution_count": 15,
      "outputs": []
    },
    {
      "cell_type": "code",
      "source": [
        "Pelis_año = Peliculas_por_año[Peliculas_por_año >= 10]"
      ],
      "metadata": {
        "id": "1ThlCcthPhLQ"
      },
      "execution_count": 16,
      "outputs": []
    },
    {
      "cell_type": "code",
      "source": [
        "evolucion = pd.concat([Rating_año_filtrado, Pelis_año], axis=1)\n",
        "evolucion.rename({'id': 'Películas'}, inplace=True, axis=1)"
      ],
      "metadata": {
        "id": "_vFdfPbKPLdY"
      },
      "execution_count": 17,
      "outputs": []
    },
    {
      "cell_type": "markdown",
      "source": [
        "Obtengo la mejor película de cada año y su nota"
      ],
      "metadata": {
        "id": "rOYtjgy_fWNR"
      }
    },
    {
      "cell_type": "code",
      "source": [
        "Mejor_película_por_año = pelis.groupby('Year')[['Rating', 'id']].max()\n",
        "Mejor_película_por_año.rename({'Rating': 'Nota máxima', 'id':'Mejor película'}, inplace=True, axis=1)\n",
        "Mejor_película_por_año"
      ],
      "metadata": {
        "colab": {
          "base_uri": "https://localhost:8080/",
          "height": 455
        },
        "id": "918Yr40HVmcx",
        "outputId": "ecfc8c91-772f-41ab-8272-fc7aedeca1f0"
      },
      "execution_count": 18,
      "outputs": [
        {
          "output_type": "execute_result",
          "data": {
            "text/plain": [
              "        Nota máxima                     Mejor película\n",
              "Year                                                  \n",
              "1914.0     6.400000            Neptune's Daughter-1914\n",
              "1915.0     6.500000         The Birth of a Nation-1915\n",
              "1916.0     7.181250        A Daughter of the Gods-1916\n",
              "1918.0     6.106854                        Mickey-1918\n",
              "1919.0     6.784615               The Miracle Man-1919\n",
              "...             ...                                ...\n",
              "2018.0     8.597538  Çift'lik Bank: Tosun Firarda-2018\n",
              "2019.0     8.500000        Zombieland: Double Tap-2019\n",
              "2020.0     8.295298                          Zola-2020\n",
              "2021.0     8.295962                  Wrath of Man-2021\n",
              "2022.0     8.599675                     Uncharted-2022\n",
              "\n",
              "[108 rows x 2 columns]"
            ],
            "text/html": [
              "\n",
              "  <div id=\"df-4d5aa5e4-a464-4296-8279-e14963d7a781\">\n",
              "    <div class=\"colab-df-container\">\n",
              "      <div>\n",
              "<style scoped>\n",
              "    .dataframe tbody tr th:only-of-type {\n",
              "        vertical-align: middle;\n",
              "    }\n",
              "\n",
              "    .dataframe tbody tr th {\n",
              "        vertical-align: top;\n",
              "    }\n",
              "\n",
              "    .dataframe thead th {\n",
              "        text-align: right;\n",
              "    }\n",
              "</style>\n",
              "<table border=\"1\" class=\"dataframe\">\n",
              "  <thead>\n",
              "    <tr style=\"text-align: right;\">\n",
              "      <th></th>\n",
              "      <th>Nota máxima</th>\n",
              "      <th>Mejor película</th>\n",
              "    </tr>\n",
              "    <tr>\n",
              "      <th>Year</th>\n",
              "      <th></th>\n",
              "      <th></th>\n",
              "    </tr>\n",
              "  </thead>\n",
              "  <tbody>\n",
              "    <tr>\n",
              "      <th>1914.0</th>\n",
              "      <td>6.400000</td>\n",
              "      <td>Neptune's Daughter-1914</td>\n",
              "    </tr>\n",
              "    <tr>\n",
              "      <th>1915.0</th>\n",
              "      <td>6.500000</td>\n",
              "      <td>The Birth of a Nation-1915</td>\n",
              "    </tr>\n",
              "    <tr>\n",
              "      <th>1916.0</th>\n",
              "      <td>7.181250</td>\n",
              "      <td>A Daughter of the Gods-1916</td>\n",
              "    </tr>\n",
              "    <tr>\n",
              "      <th>1918.0</th>\n",
              "      <td>6.106854</td>\n",
              "      <td>Mickey-1918</td>\n",
              "    </tr>\n",
              "    <tr>\n",
              "      <th>1919.0</th>\n",
              "      <td>6.784615</td>\n",
              "      <td>The Miracle Man-1919</td>\n",
              "    </tr>\n",
              "    <tr>\n",
              "      <th>...</th>\n",
              "      <td>...</td>\n",
              "      <td>...</td>\n",
              "    </tr>\n",
              "    <tr>\n",
              "      <th>2018.0</th>\n",
              "      <td>8.597538</td>\n",
              "      <td>Çift'lik Bank: Tosun Firarda-2018</td>\n",
              "    </tr>\n",
              "    <tr>\n",
              "      <th>2019.0</th>\n",
              "      <td>8.500000</td>\n",
              "      <td>Zombieland: Double Tap-2019</td>\n",
              "    </tr>\n",
              "    <tr>\n",
              "      <th>2020.0</th>\n",
              "      <td>8.295298</td>\n",
              "      <td>Zola-2020</td>\n",
              "    </tr>\n",
              "    <tr>\n",
              "      <th>2021.0</th>\n",
              "      <td>8.295962</td>\n",
              "      <td>Wrath of Man-2021</td>\n",
              "    </tr>\n",
              "    <tr>\n",
              "      <th>2022.0</th>\n",
              "      <td>8.599675</td>\n",
              "      <td>Uncharted-2022</td>\n",
              "    </tr>\n",
              "  </tbody>\n",
              "</table>\n",
              "<p>108 rows × 2 columns</p>\n",
              "</div>\n",
              "      <button class=\"colab-df-convert\" onclick=\"convertToInteractive('df-4d5aa5e4-a464-4296-8279-e14963d7a781')\"\n",
              "              title=\"Convert this dataframe to an interactive table.\"\n",
              "              style=\"display:none;\">\n",
              "        \n",
              "  <svg xmlns=\"http://www.w3.org/2000/svg\" height=\"24px\"viewBox=\"0 0 24 24\"\n",
              "       width=\"24px\">\n",
              "    <path d=\"M0 0h24v24H0V0z\" fill=\"none\"/>\n",
              "    <path d=\"M18.56 5.44l.94 2.06.94-2.06 2.06-.94-2.06-.94-.94-2.06-.94 2.06-2.06.94zm-11 1L8.5 8.5l.94-2.06 2.06-.94-2.06-.94L8.5 2.5l-.94 2.06-2.06.94zm10 10l.94 2.06.94-2.06 2.06-.94-2.06-.94-.94-2.06-.94 2.06-2.06.94z\"/><path d=\"M17.41 7.96l-1.37-1.37c-.4-.4-.92-.59-1.43-.59-.52 0-1.04.2-1.43.59L10.3 9.45l-7.72 7.72c-.78.78-.78 2.05 0 2.83L4 21.41c.39.39.9.59 1.41.59.51 0 1.02-.2 1.41-.59l7.78-7.78 2.81-2.81c.8-.78.8-2.07 0-2.86zM5.41 20L4 18.59l7.72-7.72 1.47 1.35L5.41 20z\"/>\n",
              "  </svg>\n",
              "      </button>\n",
              "      \n",
              "  <style>\n",
              "    .colab-df-container {\n",
              "      display:flex;\n",
              "      flex-wrap:wrap;\n",
              "      gap: 12px;\n",
              "    }\n",
              "\n",
              "    .colab-df-convert {\n",
              "      background-color: #E8F0FE;\n",
              "      border: none;\n",
              "      border-radius: 50%;\n",
              "      cursor: pointer;\n",
              "      display: none;\n",
              "      fill: #1967D2;\n",
              "      height: 32px;\n",
              "      padding: 0 0 0 0;\n",
              "      width: 32px;\n",
              "    }\n",
              "\n",
              "    .colab-df-convert:hover {\n",
              "      background-color: #E2EBFA;\n",
              "      box-shadow: 0px 1px 2px rgba(60, 64, 67, 0.3), 0px 1px 3px 1px rgba(60, 64, 67, 0.15);\n",
              "      fill: #174EA6;\n",
              "    }\n",
              "\n",
              "    [theme=dark] .colab-df-convert {\n",
              "      background-color: #3B4455;\n",
              "      fill: #D2E3FC;\n",
              "    }\n",
              "\n",
              "    [theme=dark] .colab-df-convert:hover {\n",
              "      background-color: #434B5C;\n",
              "      box-shadow: 0px 1px 3px 1px rgba(0, 0, 0, 0.15);\n",
              "      filter: drop-shadow(0px 1px 2px rgba(0, 0, 0, 0.3));\n",
              "      fill: #FFFFFF;\n",
              "    }\n",
              "  </style>\n",
              "\n",
              "      <script>\n",
              "        const buttonEl =\n",
              "          document.querySelector('#df-4d5aa5e4-a464-4296-8279-e14963d7a781 button.colab-df-convert');\n",
              "        buttonEl.style.display =\n",
              "          google.colab.kernel.accessAllowed ? 'block' : 'none';\n",
              "\n",
              "        async function convertToInteractive(key) {\n",
              "          const element = document.querySelector('#df-4d5aa5e4-a464-4296-8279-e14963d7a781');\n",
              "          const dataTable =\n",
              "            await google.colab.kernel.invokeFunction('convertToInteractive',\n",
              "                                                     [key], {});\n",
              "          if (!dataTable) return;\n",
              "\n",
              "          const docLinkHtml = 'Like what you see? Visit the ' +\n",
              "            '<a target=\"_blank\" href=https://colab.research.google.com/notebooks/data_table.ipynb>data table notebook</a>'\n",
              "            + ' to learn more about interactive tables.';\n",
              "          element.innerHTML = '';\n",
              "          dataTable['output_type'] = 'display_data';\n",
              "          await google.colab.output.renderOutput(dataTable, element);\n",
              "          const docLink = document.createElement('div');\n",
              "          docLink.innerHTML = docLinkHtml;\n",
              "          element.appendChild(docLink);\n",
              "        }\n",
              "      </script>\n",
              "    </div>\n",
              "  </div>\n",
              "  "
            ]
          },
          "metadata": {},
          "execution_count": 18
        }
      ]
    },
    {
      "cell_type": "markdown",
      "source": [
        "Uno los datos para guardarlos en un excel"
      ],
      "metadata": {
        "id": "PPIkT9_ffZ8J"
      }
    },
    {
      "cell_type": "code",
      "source": [
        "df2 = df.join(Mejor_película_por_año)\n",
        "df2.head()"
      ],
      "metadata": {
        "colab": {
          "base_uri": "https://localhost:8080/",
          "height": 800
        },
        "id": "5Ao_ACOmQKq4",
        "outputId": "fa965335-f384-42f5-eea7-fafe924c98c1"
      },
      "execution_count": 19,
      "outputs": [
        {
          "output_type": "execute_result",
          "data": {
            "text/plain": [
              "                  genres_x                             id original_language  \\\n",
              "0                    Drama  The Shawshank Redemption-1994                en   \n",
              "1       Action,Crime,Drama           The Dark Knight-2008                en   \n",
              "2  Action,Adventure,Sci-Fi                 Inception-2010                en   \n",
              "3                    Drama                Fight Club-1999                en   \n",
              "4            Drama,Romance              Forrest Gump-1994                en   \n",
              "\n",
              "   popularity       budget       revenue  vote_average  \\\n",
              "0      63.870   25000000.0  2.834147e+07           8.7   \n",
              "1      73.078  185000000.0  1.004558e+09           8.5   \n",
              "2      97.570  160000000.0  8.255328e+08           8.4   \n",
              "3      58.846   63000000.0  1.008538e+08           8.4   \n",
              "4      58.279   55000000.0  6.773877e+08           8.5   \n",
              "\n",
              "                                             credits  \\\n",
              "0  Tim Robbins-Morgan Freeman-Bob Gunton-William ...   \n",
              "1  Christian Bale-Heath Ledger-Michael Caine-Gary...   \n",
              "2  Leonardo DiCaprio-Joseph Gordon-Levitt-Ken Wat...   \n",
              "3  Edward Norton-Brad Pitt-Helena Bonham Carter-M...   \n",
              "4  Tom Hanks-Robin Wright-Gary Sinise-Mykelti Wil...   \n",
              "\n",
              "                                            keywords    Year  ...  \\\n",
              "0  prison-corruption-police brutality-prison cell...  1994.0  ...   \n",
              "1  crime fighter-secret identity-anti hero-scarec...  2008.0  ...   \n",
              "2  paris france-spy-philosophy-allegory-dream-kid...  2010.0  ...   \n",
              "3  based on novel or book-support group-dual iden...  1999.0  ...   \n",
              "4  vietnam veteran-hippie-washington dc usa-menta...  1994.0  ...   \n",
              "\n",
              "   main_production_company Director_age      Votes    Rating  month  \\\n",
              "0                    Other         35.0  2617710.0  9.295059      9   \n",
              "1                    Other         38.0  2594861.0  8.994669      7   \n",
              "2                    Other         40.0  2309642.0  8.794521      7   \n",
              "3                    Other         37.0  2068414.0  8.795334     10   \n",
              "4                Paramount         43.0  2027637.0  8.796631      6   \n",
              "\n",
              "   Director_debut  Writer_debut  Profit  Nota máxima  Mejor película  \n",
              "0           False          True    True          NaN             NaN  \n",
              "1           False          True    True          NaN             NaN  \n",
              "2           False          True    True          NaN             NaN  \n",
              "3           False          True    True          NaN             NaN  \n",
              "4           False          True    True          NaN             NaN  \n",
              "\n",
              "[5 rows x 21 columns]"
            ],
            "text/html": [
              "\n",
              "  <div id=\"df-e6ea4d27-ce9b-433c-9029-d02556a806b2\">\n",
              "    <div class=\"colab-df-container\">\n",
              "      <div>\n",
              "<style scoped>\n",
              "    .dataframe tbody tr th:only-of-type {\n",
              "        vertical-align: middle;\n",
              "    }\n",
              "\n",
              "    .dataframe tbody tr th {\n",
              "        vertical-align: top;\n",
              "    }\n",
              "\n",
              "    .dataframe thead th {\n",
              "        text-align: right;\n",
              "    }\n",
              "</style>\n",
              "<table border=\"1\" class=\"dataframe\">\n",
              "  <thead>\n",
              "    <tr style=\"text-align: right;\">\n",
              "      <th></th>\n",
              "      <th>genres_x</th>\n",
              "      <th>id</th>\n",
              "      <th>original_language</th>\n",
              "      <th>popularity</th>\n",
              "      <th>budget</th>\n",
              "      <th>revenue</th>\n",
              "      <th>vote_average</th>\n",
              "      <th>credits</th>\n",
              "      <th>keywords</th>\n",
              "      <th>Year</th>\n",
              "      <th>...</th>\n",
              "      <th>main_production_company</th>\n",
              "      <th>Director_age</th>\n",
              "      <th>Votes</th>\n",
              "      <th>Rating</th>\n",
              "      <th>month</th>\n",
              "      <th>Director_debut</th>\n",
              "      <th>Writer_debut</th>\n",
              "      <th>Profit</th>\n",
              "      <th>Nota máxima</th>\n",
              "      <th>Mejor película</th>\n",
              "    </tr>\n",
              "  </thead>\n",
              "  <tbody>\n",
              "    <tr>\n",
              "      <th>0</th>\n",
              "      <td>Drama</td>\n",
              "      <td>The Shawshank Redemption-1994</td>\n",
              "      <td>en</td>\n",
              "      <td>63.870</td>\n",
              "      <td>25000000.0</td>\n",
              "      <td>2.834147e+07</td>\n",
              "      <td>8.7</td>\n",
              "      <td>Tim Robbins-Morgan Freeman-Bob Gunton-William ...</td>\n",
              "      <td>prison-corruption-police brutality-prison cell...</td>\n",
              "      <td>1994.0</td>\n",
              "      <td>...</td>\n",
              "      <td>Other</td>\n",
              "      <td>35.0</td>\n",
              "      <td>2617710.0</td>\n",
              "      <td>9.295059</td>\n",
              "      <td>9</td>\n",
              "      <td>False</td>\n",
              "      <td>True</td>\n",
              "      <td>True</td>\n",
              "      <td>NaN</td>\n",
              "      <td>NaN</td>\n",
              "    </tr>\n",
              "    <tr>\n",
              "      <th>1</th>\n",
              "      <td>Action,Crime,Drama</td>\n",
              "      <td>The Dark Knight-2008</td>\n",
              "      <td>en</td>\n",
              "      <td>73.078</td>\n",
              "      <td>185000000.0</td>\n",
              "      <td>1.004558e+09</td>\n",
              "      <td>8.5</td>\n",
              "      <td>Christian Bale-Heath Ledger-Michael Caine-Gary...</td>\n",
              "      <td>crime fighter-secret identity-anti hero-scarec...</td>\n",
              "      <td>2008.0</td>\n",
              "      <td>...</td>\n",
              "      <td>Other</td>\n",
              "      <td>38.0</td>\n",
              "      <td>2594861.0</td>\n",
              "      <td>8.994669</td>\n",
              "      <td>7</td>\n",
              "      <td>False</td>\n",
              "      <td>True</td>\n",
              "      <td>True</td>\n",
              "      <td>NaN</td>\n",
              "      <td>NaN</td>\n",
              "    </tr>\n",
              "    <tr>\n",
              "      <th>2</th>\n",
              "      <td>Action,Adventure,Sci-Fi</td>\n",
              "      <td>Inception-2010</td>\n",
              "      <td>en</td>\n",
              "      <td>97.570</td>\n",
              "      <td>160000000.0</td>\n",
              "      <td>8.255328e+08</td>\n",
              "      <td>8.4</td>\n",
              "      <td>Leonardo DiCaprio-Joseph Gordon-Levitt-Ken Wat...</td>\n",
              "      <td>paris france-spy-philosophy-allegory-dream-kid...</td>\n",
              "      <td>2010.0</td>\n",
              "      <td>...</td>\n",
              "      <td>Other</td>\n",
              "      <td>40.0</td>\n",
              "      <td>2309642.0</td>\n",
              "      <td>8.794521</td>\n",
              "      <td>7</td>\n",
              "      <td>False</td>\n",
              "      <td>True</td>\n",
              "      <td>True</td>\n",
              "      <td>NaN</td>\n",
              "      <td>NaN</td>\n",
              "    </tr>\n",
              "    <tr>\n",
              "      <th>3</th>\n",
              "      <td>Drama</td>\n",
              "      <td>Fight Club-1999</td>\n",
              "      <td>en</td>\n",
              "      <td>58.846</td>\n",
              "      <td>63000000.0</td>\n",
              "      <td>1.008538e+08</td>\n",
              "      <td>8.4</td>\n",
              "      <td>Edward Norton-Brad Pitt-Helena Bonham Carter-M...</td>\n",
              "      <td>based on novel or book-support group-dual iden...</td>\n",
              "      <td>1999.0</td>\n",
              "      <td>...</td>\n",
              "      <td>Other</td>\n",
              "      <td>37.0</td>\n",
              "      <td>2068414.0</td>\n",
              "      <td>8.795334</td>\n",
              "      <td>10</td>\n",
              "      <td>False</td>\n",
              "      <td>True</td>\n",
              "      <td>True</td>\n",
              "      <td>NaN</td>\n",
              "      <td>NaN</td>\n",
              "    </tr>\n",
              "    <tr>\n",
              "      <th>4</th>\n",
              "      <td>Drama,Romance</td>\n",
              "      <td>Forrest Gump-1994</td>\n",
              "      <td>en</td>\n",
              "      <td>58.279</td>\n",
              "      <td>55000000.0</td>\n",
              "      <td>6.773877e+08</td>\n",
              "      <td>8.5</td>\n",
              "      <td>Tom Hanks-Robin Wright-Gary Sinise-Mykelti Wil...</td>\n",
              "      <td>vietnam veteran-hippie-washington dc usa-menta...</td>\n",
              "      <td>1994.0</td>\n",
              "      <td>...</td>\n",
              "      <td>Paramount</td>\n",
              "      <td>43.0</td>\n",
              "      <td>2027637.0</td>\n",
              "      <td>8.796631</td>\n",
              "      <td>6</td>\n",
              "      <td>False</td>\n",
              "      <td>True</td>\n",
              "      <td>True</td>\n",
              "      <td>NaN</td>\n",
              "      <td>NaN</td>\n",
              "    </tr>\n",
              "  </tbody>\n",
              "</table>\n",
              "<p>5 rows × 21 columns</p>\n",
              "</div>\n",
              "      <button class=\"colab-df-convert\" onclick=\"convertToInteractive('df-e6ea4d27-ce9b-433c-9029-d02556a806b2')\"\n",
              "              title=\"Convert this dataframe to an interactive table.\"\n",
              "              style=\"display:none;\">\n",
              "        \n",
              "  <svg xmlns=\"http://www.w3.org/2000/svg\" height=\"24px\"viewBox=\"0 0 24 24\"\n",
              "       width=\"24px\">\n",
              "    <path d=\"M0 0h24v24H0V0z\" fill=\"none\"/>\n",
              "    <path d=\"M18.56 5.44l.94 2.06.94-2.06 2.06-.94-2.06-.94-.94-2.06-.94 2.06-2.06.94zm-11 1L8.5 8.5l.94-2.06 2.06-.94-2.06-.94L8.5 2.5l-.94 2.06-2.06.94zm10 10l.94 2.06.94-2.06 2.06-.94-2.06-.94-.94-2.06-.94 2.06-2.06.94z\"/><path d=\"M17.41 7.96l-1.37-1.37c-.4-.4-.92-.59-1.43-.59-.52 0-1.04.2-1.43.59L10.3 9.45l-7.72 7.72c-.78.78-.78 2.05 0 2.83L4 21.41c.39.39.9.59 1.41.59.51 0 1.02-.2 1.41-.59l7.78-7.78 2.81-2.81c.8-.78.8-2.07 0-2.86zM5.41 20L4 18.59l7.72-7.72 1.47 1.35L5.41 20z\"/>\n",
              "  </svg>\n",
              "      </button>\n",
              "      \n",
              "  <style>\n",
              "    .colab-df-container {\n",
              "      display:flex;\n",
              "      flex-wrap:wrap;\n",
              "      gap: 12px;\n",
              "    }\n",
              "\n",
              "    .colab-df-convert {\n",
              "      background-color: #E8F0FE;\n",
              "      border: none;\n",
              "      border-radius: 50%;\n",
              "      cursor: pointer;\n",
              "      display: none;\n",
              "      fill: #1967D2;\n",
              "      height: 32px;\n",
              "      padding: 0 0 0 0;\n",
              "      width: 32px;\n",
              "    }\n",
              "\n",
              "    .colab-df-convert:hover {\n",
              "      background-color: #E2EBFA;\n",
              "      box-shadow: 0px 1px 2px rgba(60, 64, 67, 0.3), 0px 1px 3px 1px rgba(60, 64, 67, 0.15);\n",
              "      fill: #174EA6;\n",
              "    }\n",
              "\n",
              "    [theme=dark] .colab-df-convert {\n",
              "      background-color: #3B4455;\n",
              "      fill: #D2E3FC;\n",
              "    }\n",
              "\n",
              "    [theme=dark] .colab-df-convert:hover {\n",
              "      background-color: #434B5C;\n",
              "      box-shadow: 0px 1px 3px 1px rgba(0, 0, 0, 0.15);\n",
              "      filter: drop-shadow(0px 1px 2px rgba(0, 0, 0, 0.3));\n",
              "      fill: #FFFFFF;\n",
              "    }\n",
              "  </style>\n",
              "\n",
              "      <script>\n",
              "        const buttonEl =\n",
              "          document.querySelector('#df-e6ea4d27-ce9b-433c-9029-d02556a806b2 button.colab-df-convert');\n",
              "        buttonEl.style.display =\n",
              "          google.colab.kernel.accessAllowed ? 'block' : 'none';\n",
              "\n",
              "        async function convertToInteractive(key) {\n",
              "          const element = document.querySelector('#df-e6ea4d27-ce9b-433c-9029-d02556a806b2');\n",
              "          const dataTable =\n",
              "            await google.colab.kernel.invokeFunction('convertToInteractive',\n",
              "                                                     [key], {});\n",
              "          if (!dataTable) return;\n",
              "\n",
              "          const docLinkHtml = 'Like what you see? Visit the ' +\n",
              "            '<a target=\"_blank\" href=https://colab.research.google.com/notebooks/data_table.ipynb>data table notebook</a>'\n",
              "            + ' to learn more about interactive tables.';\n",
              "          element.innerHTML = '';\n",
              "          dataTable['output_type'] = 'display_data';\n",
              "          await google.colab.output.renderOutput(dataTable, element);\n",
              "          const docLink = document.createElement('div');\n",
              "          docLink.innerHTML = docLinkHtml;\n",
              "          element.appendChild(docLink);\n",
              "        }\n",
              "      </script>\n",
              "    </div>\n",
              "  </div>\n",
              "  "
            ]
          },
          "metadata": {},
          "execution_count": 19
        }
      ]
    },
    {
      "cell_type": "code",
      "source": [
        "#df2.to_excel('Pelis_por_año.xlsx')\n",
        "#files.download('Pelis_por_año.xlsx')"
      ],
      "metadata": {
        "id": "5zCOgm22P7Ko"
      },
      "execution_count": 20,
      "outputs": []
    },
    {
      "cell_type": "markdown",
      "source": [
        "## Boxplot de las principales productoras"
      ],
      "metadata": {
        "id": "vyQjBMLwfffx"
      }
    },
    {
      "cell_type": "code",
      "source": [
        "pelis.main_production_company.unique()"
      ],
      "metadata": {
        "colab": {
          "base_uri": "https://localhost:8080/"
        },
        "id": "2aioucSfjEjB",
        "outputId": "f0e68358-3845-4c75-9566-897da3e20e32"
      },
      "execution_count": 21,
      "outputs": [
        {
          "output_type": "execute_result",
          "data": {
            "text/plain": [
              "array(['Other', 'Paramount', 'New Line Cinema', 'Universal Pictures',\n",
              "       'Warner Bros. Pictures', 'Gaumont', 'Walt Disney Pictures',\n",
              "       '20th Century Fox', 'United Artists', 'Shaw Brothers',\n",
              "       'Columbia Pictures', 'Metro', 'Toho', 'Walt Disney Productions',\n",
              "       'UFA', 'Daiei Film', 'RKO Radio Pictures', 'Nordisk Film', 'BBC',\n",
              "       'ARTE', 'Mosfilm', 'Republic Pictures', 'Shochiku',\n",
              "       'Hal Roach Studios', 'ARD', 'Fox Film Corporation', 'SF Studios',\n",
              "       'Universal International Pictures', 'The Asylum', 'Toei Company',\n",
              "       'First National Pictures', 'The Vitaphone Corporation',\n",
              "       'ONF | NFB'], dtype=object)"
            ]
          },
          "metadata": {},
          "execution_count": 21
        }
      ]
    },
    {
      "cell_type": "code",
      "source": [
        "top_productoras = pelis.groupby('main_production_company').count()['id'].sort_values(ascending=False).head(6).drop('Other')"
      ],
      "metadata": {
        "id": "a9WCB8_IytdS"
      },
      "execution_count": 22,
      "outputs": []
    },
    {
      "cell_type": "code",
      "source": [
        "labels = []\n",
        "for c in top_productoras.index:\n",
        "   label = c.replace('Pictures', 'Pic.')\n",
        "   labels.append(label)\n",
        "\n",
        "df_productoras = pelis[pelis.main_production_company.isin(top_productoras.index)]\n",
        "\n",
        "sns.set_theme(style=\"white\", context=\"talk\")\n",
        "f, ax = plt.subplots(figsize=(25, 10))\n",
        "p = sns.boxplot(x=\"Rating\", y=\"main_production_company\",\n",
        "                color='b',\n",
        "                orient='h',\n",
        "                data=df_productoras,\n",
        "                ax= ax)\n",
        "\n",
        "sns.despine(offset=10)\n",
        "p.tick_params(labelsize=20)\n",
        "p.set_xlabel(\"Valoración\",fontsize=20)\n",
        "p.set_ylabel(None)\n",
        "p.axes.set_title(\"Box plots de las 5 principales productoras\",fontsize=25)\n",
        "p.set(xlim=(0, 10))\n",
        "p.set_xticks(range(10))\n",
        "plt.grid()\n",
        "plt.show()"
      ],
      "metadata": {
        "colab": {
          "base_uri": "https://localhost:8080/",
          "height": 664
        },
        "id": "G9B5hNqWhnzI",
        "outputId": "a419f78d-1474-44fb-e6be-185b8c12876b"
      },
      "execution_count": 45,
      "outputs": [
        {
          "output_type": "display_data",
          "data": {
            "text/plain": [
              "<Figure size 1800x720 with 1 Axes>"
            ],
            "image/png": "[encoded data removed]"
          },
          "metadata": {}
        }
      ]
    }
  ],
  "metadata": {
    "kernelspec": {
      "display_name": "Python 3.9.7 ('base')",
      "language": "python",
      "name": "python3"
    },
    "language_info": {
      "codemirror_mode": {
        "name": "ipython",
        "version": 3
      },
      "file_extension": ".py",
      "mimetype": "text/x-python",
      "name": "python",
      "nbconvert_exporter": "python",
      "pygments_lexer": "ipython3",
      "version": "3.9.7"
    },
    "orig_nbformat": 4,
    "vscode": {
      "interpreter": {
        "hash": "b09ec625f77bf4fd762565a912b97636504ad6ec901eb2d0f4cf5a7de23e1ee5"
      }
    },
    "colab": {
      "provenance": [],
      "include_colab_link": true
    }
  },
  "nbformat": 4,
  "nbformat_minor": 0
}